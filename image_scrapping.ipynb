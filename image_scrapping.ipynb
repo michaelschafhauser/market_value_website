{
 "cells": [
  {
   "cell_type": "code",
   "execution_count": 23,
   "id": "32e2ddd6",
   "metadata": {},
   "outputs": [],
   "source": [
    "from bs4 import BeautifulSoup\n",
    "import requests\n",
    "from requests.structures import CaseInsensitiveDict"
   ]
  },
  {
   "cell_type": "code",
   "execution_count": 24,
   "id": "a97f3915",
   "metadata": {},
   "outputs": [],
   "source": [
    "headers = CaseInsensitiveDict()\n",
    "headers[\"accept\"] = \"application/json\"\n",
    "headers[\"X-AUTH-TOKEN\"] = \"6ee5d299-299c-480c-ba52-514607532d6a\"\n",
    "headers[\"Content-Type\"] = \"application/json\""
   ]
  },
  {
   "cell_type": "code",
   "execution_count": 27,
   "id": "16229891",
   "metadata": {},
   "outputs": [],
   "source": [
    "URL3 = \"https://futdb.app/api/players/2637/image\""
   ]
  },
  {
   "cell_type": "code",
   "execution_count": 30,
   "id": "a03af7b8",
   "metadata": {},
   "outputs": [
    {
     "name": "stderr",
     "output_type": "stream",
     "text": [
      "Some characters could not be decoded, and were replaced with REPLACEMENT CHARACTER.\n"
     ]
    }
   ],
   "source": [
    "response = requests.get(URL3, headers=headers)\n",
    "soup = BeautifulSoup(response.content, 'html.parser')\n",
    "picture = soup.find('img')"
   ]
  },
  {
   "cell_type": "code",
   "execution_count": 31,
   "id": "df0d221b",
   "metadata": {},
   "outputs": [
    {
     "data": {
      "text/plain": [
       "NoneType"
      ]
     },
     "execution_count": 31,
     "metadata": {},
     "output_type": "execute_result"
    }
   ],
   "source": [
    "type(picture)"
   ]
  },
  {
   "cell_type": "markdown",
   "id": "46b53b62",
   "metadata": {},
   "source": [
    "---\n",
    "trying to scrape a google image"
   ]
  },
  {
   "cell_type": "code",
   "execution_count": 34,
   "id": "a19aa669",
   "metadata": {},
   "outputs": [],
   "source": [
    "URL_GOOGLE = 'https://www.google.com/search'"
   ]
  },
  {
   "cell_type": "code",
   "execution_count": 35,
   "id": "b6a21374",
   "metadata": {},
   "outputs": [],
   "source": [
    "player_name = 'paul pogba'"
   ]
  },
  {
   "cell_type": "code",
   "execution_count": 36,
   "id": "62be99d8",
   "metadata": {},
   "outputs": [],
   "source": [
    "params = {'q': player_name}"
   ]
  },
  {
   "cell_type": "code",
   "execution_count": 43,
   "id": "a638ae47",
   "metadata": {},
   "outputs": [],
   "source": [
    "picture = soup.find(\"img\", class_=\"BA0A6c\")"
   ]
  }
 ],
 "metadata": {
  "kernelspec": {
   "display_name": "Python 3 (ipykernel)",
   "language": "python",
   "name": "python3"
  },
  "language_info": {
   "codemirror_mode": {
    "name": "ipython",
    "version": 3
   },
   "file_extension": ".py",
   "mimetype": "text/x-python",
   "name": "python",
   "nbconvert_exporter": "python",
   "pygments_lexer": "ipython3",
   "version": "3.8.12"
  },
  "toc": {
   "base_numbering": 1,
   "nav_menu": {},
   "number_sections": true,
   "sideBar": true,
   "skip_h1_title": false,
   "title_cell": "Table of Contents",
   "title_sidebar": "Contents",
   "toc_cell": false,
   "toc_position": {},
   "toc_section_display": true,
   "toc_window_display": false
  }
 },
 "nbformat": 4,
 "nbformat_minor": 5
}
